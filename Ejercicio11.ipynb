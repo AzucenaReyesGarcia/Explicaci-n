{
 "cells": [
  {
   "cell_type": "markdown",
   "metadata": {},
   "source": [
    "## Ejercicio 11 "
   ]
  },
  {
   "cell_type": "markdown",
   "metadata": {},
   "source": [
    "Parque vehicular. La Ciudad de México tiene placas de automóviles con tres números seguidos por tres letras, es decir, son placas del tipo 999-AAA. Sin embargo, no pueden empezar con 0 (cero) ni se utilizan las letras I, O, Q y Ñ.  \n",
    "a) ¿Cuántas placas diferentes son posibles?  \n",
    "b) ¿Cuántas placas diferentes terminan en vocal?  \n",
    "c) ¿Cuál es la probabilidad de que una placa, elegida al azar, sea impar? "
   ]
  },
  {
   "cell_type": "code",
   "execution_count": 3,
   "metadata": {},
   "outputs": [
    {
     "name": "stdout",
     "output_type": "stream",
     "text": [
      "Placas diferentes posibles: 10950300\n",
      "Placas que terminan en vocal: 1428300\n",
      "Probabilidad de que una placa, elegida al azar, sea impar: 0.5\n"
     ]
    }
   ],
   "source": [
    "primer_dig = 9 \n",
    "otros_dig = 10  \n",
    "\n",
    "\n",
    "numero_op_digitos = primer_dig * otros_dig * otros_dig\n",
    "\n",
    "\n",
    "num_letras=23\n",
    "\n",
    "\n",
    "num_op_letras = num_letras ** 3\n",
    "\n",
    "\n",
    "total_placas = numero_op_digitos * num_op_letras\n",
    "\n",
    "\n",
    "num_vocales = 3  \n",
    "placas_terminan_vocal = numero_op_digitos * (num_letras * num_letras * num_vocales)\n",
    "\n",
    "\n",
    "num_digitos_impares = 5\n",
    "placas_impares = (primer_dig * otros_dig) * num_digitos_impares * num_op_letras\n",
    "\n",
    "\n",
    "probabilidad_impar = placas_impares / total_placas\n",
    "\n",
    "# Resultados\n",
    "print(\"Placas diferentes posibles:\", total_placas)\n",
    "print(\"Placas que terminan en vocal:\", placas_terminan_vocal)\n",
    "print(\"Probabilidad de que una placa, elegida al azar, sea impar:\", probabilidad_impar)"
   ]
  },
  {
   "cell_type": "markdown",
   "metadata": {},
   "source": [
    "#### Solución ####\n",
    "\n",
    "**a) Placas diferentes posibles:**\n",
    "\n",
    "Para calcular el número total de placas posibles, consideramos que hay 9 opciones para el primer dígito numérico (de 1 a 9) y 10 opciones para cada uno de los siguientes dos dígitos numéricos. Además, hay un total de \\( (27 - 4)^3 \\) combinaciones de letras posibles (excluyendo las 4 letras prohibidas).\n",
    "\n",
    "$$\n",
    "\\text{Número total de placas posibles} = 9 \\times 10 \\times 10 \\times (23)^3 = 10950300\n",
    "$$\n",
    "\n",
    "**b) Placas posibles con las vocales A, E, U:**\n",
    "\n",
    "Si solo se permiten las vocales A, E, U en las placas, entonces el número de combinaciones posibles de letras se reduce a \\( (23)^3 \\) y el cálculo del número total de placas posibles es el mismo que en el inciso a).\n",
    "\n",
    "$$\n",
    "\\text{Número total de placas posibles con solo A, E, U} = 9 \\times 10 \\times 10 \\times (23)^3 = 1428300\n",
    "$$\n",
    "\n",
    "**c) Placa que termine en un número impar:**\n",
    "\n",
    "Hay 5 números impares (1, 3, 5, 7, 9) que pueden estar en la última posición de la placa. El número total de placas que terminan en un número impar es \\( 9 \\times 10 \\times 5 \\). La probabilidad se calcula dividiendo el número de placas que terminan en un número impar entre el número total de placas posibles.\n",
    "\n",
    "$$\n",
    "\\text{Probabilidad de que la placa termine en número impar} = \\frac{9 \\times 10 \\times 5}{9 \\times 10 \\times 10} = 0.5\n",
    "$$\n",
    "\n",
    "\n"
   ]
  },
  {
   "cell_type": "code",
   "execution_count": null,
   "metadata": {},
   "outputs": [],
   "source": []
  }
 ],
 "metadata": {
  "kernelspec": {
   "display_name": "Python 3",
   "language": "python",
   "name": "python3"
  },
  "language_info": {
   "codemirror_mode": {
    "name": "ipython",
    "version": 3
   },
   "file_extension": ".py",
   "mimetype": "text/x-python",
   "name": "python",
   "nbconvert_exporter": "python",
   "pygments_lexer": "ipython3",
   "version": "3.12.4"
  }
 },
 "nbformat": 4,
 "nbformat_minor": 2
}
