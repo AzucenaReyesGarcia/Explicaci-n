{
 "cells": [
  {
   "cell_type": "markdown",
   "metadata": {},
   "source": [
    "## Ejercicio 11 "
   ]
  },
  {
   "cell_type": "markdown",
   "metadata": {},
   "source": [
    "Parque vehicular. La Ciudad de México tiene placas de automóviles con tres números seguidos por tres letras, es decir, son placas del tipo 999-AAA. Sin embargo, no pueden empezar con 0 (cero) ni se utilizan las letras I, O, Q y Ñ.  \n",
    "a) ¿Cuántas placas diferentes son posibles?  \n",
    "b) ¿Cuántas placas diferentes terminan en vocal?  \n",
    "c) ¿Cuál es la probabilidad de que una placa, elegida al azar, sea impar?"
   ]
  },
  {
   "cell_type": "code",
   "execution_count": 1,
   "metadata": {},
   "outputs": [
    {
     "name": "stdout",
     "output_type": "stream",
     "text": [
      "Placas diferentes posibles: 10950300\n",
      "Placas que terminan en vocal: 1428300\n",
      "Probabilidad de que una placa, elegida al azar, sea impar: 0.5\n"
     ]
    }
   ],
   "source": [
    "primer_dig = 9 \n",
    "otros_dig = 10  \n",
    "\n",
    "\n",
    "numero_op_digitos = primer_dig * otros_dig * otros_dig\n",
    "\n",
    "\n",
    "num_letras=23\n",
    "\n",
    "\n",
    "num_op_letras = num_letras ** 3\n",
    "\n",
    "\n",
    "total_placas = numero_op_digitos * num_op_letras\n",
    "\n",
    "\n",
    "num_vocales = 3  \n",
    "placas_terminan_vocal = numero_op_digitos * (num_letras * num_letras * num_vocales)\n",
    "\n",
    "\n",
    "num_digitos_impares = 5\n",
    "placas_impares = (primer_dig * otros_dig) * num_digitos_impares * num_op_letras\n",
    "\n",
    "\n",
    "probabilidad_impar = placas_impares / total_placas\n",
    "\n",
    "# Resultados\n",
    "print(\"Placas diferentes posibles:\", total_placas)\n",
    "print(\"Placas que terminan en vocal:\", placas_terminan_vocal)\n",
    "print(\"Probabilidad de que una placa, elegida al azar, sea impar:\", probabilidad_impar)"
   ]
  },
  {
   "cell_type": "markdown",
   "metadata": {},
   "source": [
    "#### Solución ####\n",
    "\n",
    "**a) Placas diferentes posibles:**\n",
    "\n",
    "Para calcular el número total de placas posibles, consideramos que hay 9 opciones para el primer dígito numérico (de 1 a 9) y 10 opciones para cada uno de los siguientes dos dígitos numéricos. Además, hay un total de \\( (27 - 4)^3 \\) combinaciones de letras posibles (excluyendo las 4 letras prohibidas).\n",
    "\n",
    "$$\n",
    "\\text{Número total de placas posibles} = 9 \\times 10 \\times 10 \\times (23)^3 = 10950300\n",
    "$$\n",
    "\n",
    "**b) Placas posibles con las vocales A, E, U:**\n",
    "\n",
    "Si solo se permiten las vocales A, E, U en las placas, entonces el número de combinaciones posibles de letras se reduce a \\( (23)^3 \\) y el cálculo del número total de placas posibles es el mismo que en el inciso a).\n",
    "\n",
    "$$\n",
    "\\text{Número total de placas posibles con solo A, E, U} = 9 \\times 10 \\times 10 \\times (23)^3 = 1428300\n",
    "$$\n",
    "\n",
    "**c) Placa que termine en un número impar:**\n",
    "\n",
    "Hay 5 números impares (1, 3, 5, 7, 9) que pueden estar en la última posición de la placa. El número total de placas que terminan en un número impar es \\( 9 \\times 10 \\times 5 \\). La probabilidad se calcula dividiendo el número de placas que terminan en un número impar entre el número total de placas posibles.\n",
    "\n",
    "$$\n",
    "\\text{Probabilidad de que la placa termine en número impar} = \\frac{9 \\times 10 \\times 5}{9 \\times 10 \\times 10} = 0.5\n",
    "$$\n"
   ]
  },
  {
   "cell_type": "markdown",
   "metadata": {},
   "source": [
    "## Ejercicio 12 "
   ]
  },
  {
   "cell_type": "markdown",
   "metadata": {},
   "source": [
    "Servicios restauranteros. Una cadena de hamburguesas anuncia que se ofrecen 512 maneras de pedir una hamburguesa. Un cliente puede elegir cualquiera de estos ingredientes: cátsup, mostaza, mayonesa, aderezo de la casa, cebolla, pepinillos, jitomate, tocino y lechuga.\n",
    "¿Crees que lo que afirma la empresa sea cierto? Justifica tu respuesta."
   ]
  },
  {
   "cell_type": "code",
   "execution_count": 2,
   "metadata": {},
   "outputs": [
    {
     "name": "stdout",
     "output_type": "stream",
     "text": [
      "Total de formas posibles: 512\n",
      "La afirmación de la empresa es correcta.\n"
     ]
    }
   ],
   "source": [
    "# Maneras posibles de ordenar una hamburguesa\n",
    "total_for = 2 ** 9  # 2 elevado a la potencia de 9 (ya que hay 9 ingredientes)\n",
    "print(\"Total de formas posibles:\", total_for)\n",
    "\n",
    "\n",
    "afir_empresa = 512\n",
    "\n",
    "if total_for == afir_empresa:\n",
    "    print(\"La afirmación de la empresa es correcta.\")\n",
    "else:\n",
    "    print(\"La afirmación de la empresa NO es correcta.\")"
   ]
  },
  {
   "cell_type": "markdown",
   "metadata": {},
   "source": [
    "## Solucion  ##\n",
    "Para determinar si la afirmación de la cadena de hamburguesas es cierta, necesitamos calcular el número de combinaciones posibles de los ingredientes ofrecidos. La fórmula que utilizaremos se basa en las combinaciones de los ingredientes, donde cada ingrediente puede estar presente o no, lo que significa que cada ingrediente tiene dos opciones: estar presente o no estar presente.\n",
    "\n",
    "Los ingredientes disponibles son: cátsup, mostaza, mayonesa, aderezo de la casa, cebolla, pepinillos, jitomate, tocino y lechuga. Esto hace un total de 9 ingredientes.\n",
    "\n",
    "El número total de combinaciones posibles se calcula como \\(2^n\\), donde \\(n\\) es el número de ingredientes. En este caso, \\(n = 9\\).\n",
    "\n",
    "$$\n",
    "2^9 = 512\n",
    "$$\n",
    "\n",
    "Por lo tanto, la afirmación de la cadena de hamburguesas es cierta, ya que con 9 ingredientes hay exactamente 512 maneras diferentes de pedir una hamburguesa."
   ]
  }
 ],
 "metadata": {
  "kernelspec": {
   "display_name": "Python 3",
   "language": "python",
   "name": "python3"
  },
  "language_info": {
   "codemirror_mode": {
    "name": "ipython",
    "version": 3
   },
   "file_extension": ".py",
   "mimetype": "text/x-python",
   "name": "python",
   "nbconvert_exporter": "python",
   "pygments_lexer": "ipython3",
   "version": "3.12.4"
  }
 },
 "nbformat": 4,
 "nbformat_minor": 2
}
