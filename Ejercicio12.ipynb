{
 "cells": [
  {
   "cell_type": "markdown",
   "metadata": {},
   "source": [
    "## Ejercicio 12 "
   ]
  },
  {
   "cell_type": "markdown",
   "metadata": {},
   "source": [
    "Servicios restauranteros. Una cadena de hamburguesas anuncia que se ofrecen 512 maneras de pedir una hamburguesa. Un cliente puede elegir cualquiera de estos ingredientes: cátsup, mostaza, mayonesa, aderezo de la casa, cebolla, pepinillos, jitomate, tocino y lechuga.\n",
    "¿Crees que lo que afirma la empresa sea cierto? Justifica tu respuesta."
   ]
  },
  {
   "cell_type": "code",
   "execution_count": 1,
   "metadata": {},
   "outputs": [
    {
     "name": "stdout",
     "output_type": "stream",
     "text": [
      "Total de formas posibles: 512\n",
      "La afirmación de la empresa es correcta.\n"
     ]
    }
   ],
   "source": [
    "# Maneras posibles de ordenar una hamburguesa\n",
    "total_for = 2 ** 9  # 2 elevado a la potencia de 9 (ya que hay 9 ingredientes)\n",
    "print(\"Total de formas posibles:\", total_for)\n",
    "\n",
    "\n",
    "afir_empresa = 512\n",
    "\n",
    "if total_for == afir_empresa:\n",
    "    print(\"La afirmación de la empresa es correcta.\")\n",
    "else:\n",
    "    print(\"La afirmación de la empresa NO es correcta.\")"
   ]
  },
  {
   "cell_type": "markdown",
   "metadata": {},
   "source": [
    "## Solucion  ##\n",
    "Para determinar si la afirmación de la cadena de hamburguesas es cierta, necesitamos calcular el número de combinaciones posibles de los ingredientes ofrecidos. La fórmula que utilizaremos se basa en las combinaciones de los ingredientes, donde cada ingrediente puede estar presente o no, lo que significa que cada ingrediente tiene dos opciones: estar presente o no estar presente.\n",
    "\n",
    "Los ingredientes disponibles son: cátsup, mostaza, mayonesa, aderezo de la casa, cebolla, pepinillos, jitomate, tocino y lechuga. Esto hace un total de 9 ingredientes.\n",
    "\n",
    "El número total de combinaciones posibles se calcula como \\(2^n\\), donde \\(n\\) es el número de ingredientes. En este caso, \\(n = 9\\).\n",
    "\n",
    "$$\n",
    "2^9 = 512\n",
    "$$\n",
    "\n",
    "Por lo tanto, la afirmación de la cadena de hamburguesas es cierta, ya que con 9 ingredientes hay exactamente 512 maneras diferentes de pedir una hamburguesa."
   ]
  }
 ],
 "metadata": {
  "kernelspec": {
   "display_name": "Python 3",
   "language": "python",
   "name": "python3"
  },
  "language_info": {
   "codemirror_mode": {
    "name": "ipython",
    "version": 3
   },
   "file_extension": ".py",
   "mimetype": "text/x-python",
   "name": "python",
   "nbconvert_exporter": "python",
   "pygments_lexer": "ipython3",
   "version": "3.12.4"
  }
 },
 "nbformat": 4,
 "nbformat_minor": 2
}
